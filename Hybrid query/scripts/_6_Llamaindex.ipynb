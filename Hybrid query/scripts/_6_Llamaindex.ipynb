{
 "cells": [
  {
   "cell_type": "code",
   "execution_count": 57,
   "id": "b212a63e-6872-497f-9b29-8b3bcc70763f",
   "metadata": {},
   "outputs": [],
   "source": [
    "import pandas as pd\n",
    "import numpy as np\n",
    "import ast\n",
    "from llama_index.core import VectorStoreIndex, StorageContext\n",
    "from llama_index.vector_stores.chroma import ChromaVectorStore\n",
    "from llama_index.core.schema import TextNode"
   ]
  },
  {
   "cell_type": "code",
   "execution_count": 1,
   "id": "06bd2d77-2912-4729-afa3-b56cecade753",
   "metadata": {},
   "outputs": [],
   "source": [
    "import logging\n",
    "import sys\n",
    "\n",
    "logging.basicConfig(stream=sys.stdout, level=logging.INFO)\n",
    "logging.getLogger().addHandler(logging.StreamHandler(stream=sys.stdout))"
   ]
  },
  {
   "cell_type": "code",
   "execution_count": null,
   "id": "1d6f65b0-4bb5-4462-a194-73ea38306f67",
   "metadata": {},
   "outputs": [],
   "source": [
    "# set up OpenAI\n",
    "import os\n",
    "import getpass\n",
    "\n",
    "os.environ[\"OPENAI_API_KEY\"] = getpass.getpass(\"OpenAI API Key:\")\n",
    "import openai\n",
    "\n",
    "openai.api_key = os.environ[\"OPENAI_API_KEY\"]"
   ]
  },
  {
   "cell_type": "code",
   "execution_count": 4,
   "id": "4d3df00f-4eb9-47a8-b557-024d829811a3",
   "metadata": {},
   "outputs": [],
   "source": [
    "import chromadb"
   ]
  },
  {
   "cell_type": "code",
   "execution_count": null,
   "id": "10262f4b-59d4-48d1-8f17-688e93645b8e",
   "metadata": {},
   "outputs": [],
   "source": [
    "chroma_client = chromadb.EphemeralClient()\n",
    "chroma_collection = chroma_client.create_collection(\"quickstart\")"
   ]
  },
  {
   "cell_type": "markdown",
   "id": "3c5bf647-1d86-4043-9891-1be581486bb4",
   "metadata": {},
   "source": [
    "###Dataset Preparation"
   ]
  },
  {
   "cell_type": "code",
   "execution_count": 6,
   "id": "f4ac437c-2dc8-4b1c-8699-99a84f3a9f95",
   "metadata": {},
   "outputs": [],
   "source": []
  },
  {
   "cell_type": "code",
   "execution_count": 4,
   "id": "16b324e9-eb4f-4f76-ba16-7e8d86acdb84",
   "metadata": {},
   "outputs": [],
   "source": [
    "df= pd.read_csv('./../data/cleaned/template_bullet.csv')"
   ]
  },
  {
   "cell_type": "code",
   "execution_count": 5,
   "id": "0953d8b9-7321-429d-8b82-47803faeee16",
   "metadata": {},
   "outputs": [
    {
     "data": {
      "text/html": [
       "<div>\n",
       "<style scoped>\n",
       "    .dataframe tbody tr th:only-of-type {\n",
       "        vertical-align: middle;\n",
       "    }\n",
       "\n",
       "    .dataframe tbody tr th {\n",
       "        vertical-align: top;\n",
       "    }\n",
       "\n",
       "    .dataframe thead th {\n",
       "        text-align: right;\n",
       "    }\n",
       "</style>\n",
       "<table border=\"1\" class=\"dataframe\">\n",
       "  <thead>\n",
       "    <tr style=\"text-align: right;\">\n",
       "      <th></th>\n",
       "      <th>asin_id</th>\n",
       "      <th>title</th>\n",
       "      <th>context</th>\n",
       "      <th>filter</th>\n",
       "      <th>bullet_points</th>\n",
       "    </tr>\n",
       "  </thead>\n",
       "  <tbody>\n",
       "    <tr>\n",
       "      <th>0</th>\n",
       "      <td>B07MZCMZNG</td>\n",
       "      <td>Copco Hydra Reusable Tritan Water Bottle Spill...</td>\n",
       "      <td>['BABY_BOTTLE', 'material_type_free:BPA Free',...</td>\n",
       "      <td>['binding:miscellaneous']</td>\n",
       "      <td>bullet_point:[Durable, single-wall, BPA-free T...</td>\n",
       "    </tr>\n",
       "    <tr>\n",
       "      <th>1</th>\n",
       "      <td>B07T175PWC</td>\n",
       "      <td>Nuby Thirsty Kids Push Button Flip-it Soft Spo...</td>\n",
       "      <td>['BABY_BOTTLE', 'binding:baby_product', 'manuf...</td>\n",
       "      <td>['age_range_description:Kid', 'color:Multi', '...</td>\n",
       "      <td>bullet_point:nan</td>\n",
       "    </tr>\n",
       "    <tr>\n",
       "      <th>2</th>\n",
       "      <td>B0009RNXNK</td>\n",
       "      <td>J.L. Childress MaxiCOOL 4 Bottle Breastmilk Co...</td>\n",
       "      <td>['BABY_BOTTLE', 'binding:baby_product', 'manuf...</td>\n",
       "      <td>['material_type_free:Phthalates Free', 'color:...</td>\n",
       "      <td>bullet_point:[Insulated bottle cooler holds up...</td>\n",
       "    </tr>\n",
       "    <tr>\n",
       "      <th>3</th>\n",
       "      <td>B06XXTX2H2</td>\n",
       "      <td>Baby Fanatic NCAA Alabama Crimson Tide Unisex ...</td>\n",
       "      <td>['BABY_BOTTLE', 'material_type_free:BPA Free']</td>\n",
       "      <td>['age_range_description:Kid', 'color:multicolo...</td>\n",
       "      <td>bullet_point:[Officially Licensed Collegiate P...</td>\n",
       "    </tr>\n",
       "    <tr>\n",
       "      <th>4</th>\n",
       "      <td>B00JLVEJ88</td>\n",
       "      <td>Dr. Brown's Pink 8 Ounce Bottles (2 Pack)</td>\n",
       "      <td>['BABY_BOTTLE', 'material_type_free:BPA Free',...</td>\n",
       "      <td>['material:BPA Free']</td>\n",
       "      <td>bullet_point:[Innovative Dr. Brown's Natural F...</td>\n",
       "    </tr>\n",
       "  </tbody>\n",
       "</table>\n",
       "</div>"
      ],
      "text/plain": [
       "      asin_id                                              title  \\\n",
       "0  B07MZCMZNG  Copco Hydra Reusable Tritan Water Bottle Spill...   \n",
       "1  B07T175PWC  Nuby Thirsty Kids Push Button Flip-it Soft Spo...   \n",
       "2  B0009RNXNK  J.L. Childress MaxiCOOL 4 Bottle Breastmilk Co...   \n",
       "3  B06XXTX2H2  Baby Fanatic NCAA Alabama Crimson Tide Unisex ...   \n",
       "4  B00JLVEJ88          Dr. Brown's Pink 8 Ounce Bottles (2 Pack)   \n",
       "\n",
       "                                             context  \\\n",
       "0  ['BABY_BOTTLE', 'material_type_free:BPA Free',...   \n",
       "1  ['BABY_BOTTLE', 'binding:baby_product', 'manuf...   \n",
       "2  ['BABY_BOTTLE', 'binding:baby_product', 'manuf...   \n",
       "3     ['BABY_BOTTLE', 'material_type_free:BPA Free']   \n",
       "4  ['BABY_BOTTLE', 'material_type_free:BPA Free',...   \n",
       "\n",
       "                                              filter  \\\n",
       "0                          ['binding:miscellaneous']   \n",
       "1  ['age_range_description:Kid', 'color:Multi', '...   \n",
       "2  ['material_type_free:Phthalates Free', 'color:...   \n",
       "3  ['age_range_description:Kid', 'color:multicolo...   \n",
       "4                              ['material:BPA Free']   \n",
       "\n",
       "                                       bullet_points  \n",
       "0  bullet_point:[Durable, single-wall, BPA-free T...  \n",
       "1                                   bullet_point:nan  \n",
       "2  bullet_point:[Insulated bottle cooler holds up...  \n",
       "3  bullet_point:[Officially Licensed Collegiate P...  \n",
       "4  bullet_point:[Innovative Dr. Brown's Natural F...  "
      ]
     },
     "execution_count": 5,
     "metadata": {},
     "output_type": "execute_result"
    }
   ],
   "source": [
    "df.head(5)"
   ]
  },
  {
   "cell_type": "code",
   "execution_count": 65,
   "id": "248c2b93-b5c3-4c33-8abc-466e92761cd4",
   "metadata": {},
   "outputs": [],
   "source": [
    "nodes= []\n",
    "for index,row in df.iterrows():\n",
    "    text = row['bullet_points']\n",
    "    text = text.split(':')[1]\n",
    "    text = text.strip(\"[]\")\n",
    "    context_list, filter_list = ast.literal_eval(row['context']), ast.literal_eval(row['filter'])\n",
    "    meta = {'product_type': context_list[0]}\n",
    "    for i in range(1,len(context_list)):\n",
    "        try:\n",
    "            key,value = context_list[i].split(\":\")\n",
    "        except:\n",
    "            continue\n",
    "        meta[key] = value\n",
    "    for i in filter_list:\n",
    "        try:\n",
    "            key,value = i.split(\":\")\n",
    "        except:\n",
    "            continue\n",
    "        meta[key] = value\n",
    "    nodes.append(\n",
    "        TextNode(\n",
    "            text = (text),\n",
    "            metadata = meta\n",
    "        )\n",
    "    )"
   ]
  },
  {
   "cell_type": "code",
   "execution_count": 70,
   "id": "7601bc8f-5cd0-4e88-a1ab-132aed78de3d",
   "metadata": {},
   "outputs": [
    {
     "name": "stdout",
     "output_type": "stream",
     "text": [
      "dict_items([('product_type', 'BABY_BOTTLE'), ('material_type_free', 'BPA Free'), ('age_range_description', 'Baby'), ('color', 'Orange, Yellow, Gray'), ('manufacturer', 'Lifetime Brands'), ('brand', 'Copco'), ('binding', 'miscellaneous')])\n"
     ]
    }
   ],
   "source": [
    "print(nodes[0].metadata.items())"
   ]
  },
  {
   "cell_type": "code",
   "execution_count": null,
   "id": "b9d16bfd-12ba-4c40-88d1-2f220e9f19bc",
   "metadata": {},
   "outputs": [],
   "source": []
  }
 ],
 "metadata": {
  "kernelspec": {
   "display_name": "Python 3 (ipykernel)",
   "language": "python",
   "name": "python3"
  },
  "language_info": {
   "codemirror_mode": {
    "name": "ipython",
    "version": 3
   },
   "file_extension": ".py",
   "mimetype": "text/x-python",
   "name": "python",
   "nbconvert_exporter": "python",
   "pygments_lexer": "ipython3",
   "version": "3.9.19"
  }
 },
 "nbformat": 4,
 "nbformat_minor": 5
}
